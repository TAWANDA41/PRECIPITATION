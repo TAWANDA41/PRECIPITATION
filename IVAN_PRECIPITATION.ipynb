{
 "cells": [
  {
   "cell_type": "code",
   "execution_count": 6,
   "metadata": {},
   "outputs": [],
   "source": [
    "# Load needed packages\n",
    "%matplotlib inline\n",
    "import sys\n",
    "sys.path.insert(0, '/weathradivan')\n",
    "import weathradivan as rmet\n",
    "import matplotlib.pyplot as plt\n",
    "import numpy as np"
   ]
  },
  {
   "cell_type": "code",
   "execution_count": 89,
   "metadata": {},
   "outputs": [],
   "source": [
    "\n",
    "frequency = 6.25E9 # Hz\n",
    "pulse_width_min = 200E-9 # seconds\n",
    "pulse_width_max = 2E-6 # seconds\n",
    "beam_width = 0.9 # degrees\n",
    "gain = 45.1 # dB\n",
    "power = 350000 # W\n",
    "prf_min = 200 # Hz\n",
    "prf_max = 2.7E3 # Hz\n",
    "\n",
    "\n",
    "# Let's make up a couple loss parameters\n",
    "antenna_loss = 0.5 # dB\n",
    "receiver_loss = 1.0 # dB"
   ]
  },
  {
   "cell_type": "code",
   "execution_count": 92,
   "metadata": {},
   "outputs": [
    {
     "data": {
      "text/plain": [
       "Text(0, 0.5, 'Range')"
      ]
     },
     "execution_count": 92,
     "metadata": {},
     "output_type": "execute_result"
    },
    {
     "data": {
      "image/png": "[encoded data removed]",
      "text/plain": [
       "<Figure size 432x288 with 1 Axes>"
      ]
     },
     "metadata": {
      "needs_background": "light"
     },
     "output_type": "display_data"
    }
   ],
   "source": [
    "c=2.998e8\n",
    "Rc=array = np.arange(5000)\n",
    "Ac=c*pulse_width_min*beam_width*np.asarray(Rc)/2\n",
    "mpl_fig = plt.figure()\n",
    "ax = mpl_fig.add_subplot(111)\n",
    "line, = ax.plot(Rc,Ac, lw=2)\n",
    "\n",
    "ax.set_title(\"Area of Clutter and Range Relationship\")\n",
    "ax.set_xlabel(\"Area of Cluter\")\n",
    "ax.set_ylabel(\"Range\")"
   ]
  },
  {
   "cell_type": "code",
   "execution_count": 82,
   "metadata": {},
   "outputs": [],
   "source": [
    "## Let's show some examples of radar system calculations ##\n",
    "## system.py ## \n",
    "wavelength = rmet.system.wavelength(frequency) # m\n",
    "\n",
    "pulse_length_min = rmet.system.pulse_length(pulse_width_min) # m\n",
    "\n",
    "pulse_length_max = rmet.system.pulse_length(pulse_width_max) # m\n",
    "\n",
    "radar_const = rmet.system.radar_const(power, gain, pulse_width_max,\n",
    "                                      wavelength, beam_width, beam_width,\n",
    "                                      antenna_loss, receiver_loss) # unitless\n",
    "\n",
    "antenna_effective_area = rmet.system.ant_eff_area(gain, wavelength) # m^2\n",
    "\n",
    "# Assume a spherical target of 0.5 mm diameter\n",
    "targ_diam = 0.5E-3\n",
    "targ_area = np.pi * (targ_diam/2)**2\n",
    "\n",
    "# Target volume at 50 m range\n",
    "targ_range = 50.\n",
    "target_power = rmet.system.power_target(power, gain, targ_area, targ_range) # W\n",
    "\n",
    "# Assume that it is water (don't need to specify dielectric constant, otherwise add K argument)\n",
    "xsec_backscatter_sphere = rmet.system.xsec_bscatter_sphere(targ_diam, wavelength) # m^2\n",
    "\n",
    "size_parameter = rmet.system.size_param(targ_diam, wavelength) # unitless\n",
    "\n",
    "Pt_return = rmet.system.power_return_target(power, gain, wavelength,\n",
    "                                            xsec_backscatter_sphere, targ_range) # W\n"
   ]
  },
  {
   "cell_type": "code",
   "execution_count": 90,
   "metadata": {
    "scrolled": true
   },
   "outputs": [
    {
     "name": "stdout",
     "output_type": "stream",
     "text": [
      " wavelength = 4.8 cm\n",
      "minimum pulse length = 30 m\n",
      "maximum pulse length = 300 m\n",
      "radar constant = 1.45312e+15\n",
      "antenna effective area = 5.93298 m^2\n",
      "target power return = 0.0707861 W\n",
      "crossectional backscatter area =7.79059e-13 m^2\n",
      "parameter of example = 0.0327249 \n",
      " power return for example =  5.30409e-11 W\n"
     ]
    }
   ],
   "source": [
    " # Now print out the answers to check the performance:\n",
    "print (\" wavelength = %g cm\" % (wavelength * 100)) # put into cm\n",
    "print (\"minimum pulse length = %g m\" % (pulse_length_min))\n",
    "print (\"maximum pulse length = %g m\" % (pulse_length_max))\n",
    "print (\"radar constant = %g\" % radar_const)\n",
    "print (\"antenna effective area = %g m^2\" % antenna_effective_area)\n",
    "print (\"target power return = %g W\" % target_power)\n",
    "print (r\"crossectional backscatter area =%g m^2\" % xsec_backscatter_sphere)\n",
    "print (\"parameter of example = %g \" % size_parameter)\n",
    "print (\" power return for example = % g W\" % Pt_return)"
   ]
  },
  {
   "cell_type": "markdown",
   "metadata": {},
   "source": [
    "For a distributed target such as precipitation, which fills the radar beam, the amount of power received by a given radar is summarized by the Probert-Jones equation for meteorological radar as follows,\n",
    "\n",
    "                                             P_r  =P_t  (G^2 λ^2 θ_ϕ h)/(1024π^2 In2)  η/R^2                             (6)\n",
    "                                              \n",
    "where θ and ϕ denote the antenna beamwidth in the horizontal and vertical planes, h is the pulse length of the transmitted signal, and η is the radar reflectivity of the target. \n",
    "P_r is the average echo return power. It is to be noted that the Probert- Jones equation interpret average returned power, which is calculated from more than one pulse of energy. Averaging is necessary since P_r  varies greatly from pulse to pulse.\n",
    "P_t  is the power transmitted from the in the outgoing energy burst. The average return power varies directly with P_r.\n",
    "G is the gain of the radar antenna, being a measure of the ability of an antenna to focus energy into a beam for both the transmitted and received EM waves.\n",
    "R is the range to target to the target and the reflected energy reaching the antenna varies inversely with the square of the target\n",
    "λ is the wavelength of the RF energy expressed in meters. The amount of power received varies directly with square of the RF energy wavelength. \n",
    "The Probert-Jones equation assumes that the antenna pattern has a Gaussian shape and that the scattering volume is uniformly filled. From the equation above it can be noticed that power received from the target is directly proportional to the factor (η/R^2  ) of which is dependent on both the reflectivity of the target be it hailstorm or light rain as well as its range. However, of the two the range R can be determined by the equation,\n",
    "                                               R_max=C/(2.PRF) ,                                                               (7)\n",
    "where    R_max = is the maximum unambiguous range              \n",
    "C = 3 x 108 m s^(-1)                  \n",
    "PRF = pulse repetition frequency [s^(-1) ], i.e., number of pulses per second. So, dependant on the two elements of the factor it can be shown by equation (6) that the power received is inversely proportional to the range R calculated in equation (7). We can now tell the reflectivity Ƞ knowing the power received by the radar receiver through making it the subject of the formula in equation (6).  \n"
   ]
  },
  {
   "cell_type": "code",
   "execution_count": 7,
   "metadata": {},
   "outputs": [
    {
     "name": "stdout",
     "output_type": "stream",
     "text": [
      "25 dBZ in linear units is 316.228\n",
      "Wind speeds:\n",
      "20 mph winds in SI units is 8.94082 m/s\n",
      "40 kmh winds in SI units is 11.1111 m/s\n"
     ]
    }
   ],
   "source": [
    "## Converting units ##\n",
    "print (\"25 dBZ in linear units is %g\" % rmet.conversion.dBZ2Z(25.))\n",
    "print (\"Wind speeds:\")\n",
    "print (\"20 mph winds in SI units is %g m/s\" % rmet.conversion.mph2si(20.))\n",
    "print (\"40 kmh winds in SI units is %g m/s\" % rmet.conversion.kmh2si(40.))"
   ]
  },
  {
   "cell_type": "code",
   "execution_count": 86,
   "metadata": {},
   "outputs": [],
   "source": [
    "\n",
    "fmax_min = rmet.doppler.fmax(prf_min) # Hz\n",
    "fmax_max = rmet.doppler.fmax(prf_max) # Hz\n",
    "nyquist_vel_min = rmet.doppler.Vmax(prf_min, wavelength) # m/s\n",
    "nyquist_vel_max = rmet.doppler.Vmax(prf_max, wavelength) # m/s\n",
    "Rmax_min = rmet.doppler.Rmax(prf_min) # m\n",
    "Rmax_max = rmet.doppler.Rmax(prf_max) # m\n",
    "\n",
    "# Combining the two PRF for a dual-PRF system\n",
    "nyquist_dual = rmet.doppler.Vmax_dual(wavelength, prf_min, prf_max) # m/s"
   ]
  },
  {
   "cell_type": "code",
   "execution_count": 87,
   "metadata": {
    "scrolled": true
   },
   "outputs": [
    {
     "name": "stdout",
     "output_type": "stream",
     "text": [
      "max frequency for min PRF = 100 Hz\n",
      "max frequency for max PRF = 1350 Hz\n",
      "nyquist velocity range = 2.4 - 32.4 m/s\n",
      "unambiguous range for PRF range = 750 - 55.5556 km\n",
      "dual PRF example = 2.592 m/s\n"
     ]
    }
   ],
   "source": [
    "# Now again print out the answers to the above cell to check the performance:\n",
    "print (\"max frequency for min PRF = %g Hz\" % (fmax_min))\n",
    "print (\"max frequency for max PRF = %g Hz\" % (fmax_max))\n",
    "print (\"nyquist velocity range = %g - %g m/s\" % (nyquist_vel_min, nyquist_vel_max))\n",
    "print (\"unambiguous range for PRF range = %g - %g km\" % (Rmax_min/1000., Rmax_max/1000.))\n",
    "print (\"dual PRF example = %g m/s\" % nyquist_dual)"
   ]
  },
  {
   "cell_type": "code",
   "execution_count": null,
   "metadata": {},
   "outputs": [],
   "source": []
  },
  {
   "cell_type": "code",
   "execution_count": 93,
   "metadata": {},
   "outputs": [
    {
     "name": "stdout",
     "output_type": "stream",
     "text": [
      "Light to moderate\n"
     ]
    },
    {
     "data": {
      "image/png": "[encoded data removed]",
      "text/plain": [
       "<Figure size 432x288 with 1 Axes>"
      ]
     },
     "metadata": {
      "needs_background": "light"
     },
     "output_type": "display_data"
    }
   ],
   "source": [
    "import random\n",
    "l = [5,10,15,20,25,30,35,40,45,50,55,60,65]\n",
    "rainrate = []\n",
    "for i in range(0,len(l)):\n",
    "    y= ((10**(l[i]/10))/200)**(5/8)\n",
    "    rainrate.append(y)\n",
    "#print(rainrate)\n",
    "mpl_fig = plt.figure()\n",
    "ax = mpl_fig.add_subplot(111)\n",
    "line, = ax.plot(l ,rainrate, lw=2)\n",
    "\n",
    "ax.set_title(\"Rain rate Reflectivity factor relationship\")\n",
    "ax.set_xlabel(\"Reflectivity factor\")\n",
    "ax.set_ylabel(\"Rain Rate\")\n",
    "#classify  categories of precipitation\n",
    "x=random.randint(1,70)\n",
    "if(x<5):\n",
    "    print(\"Hardly noticeable\")\n",
    "elif(x<10):\n",
    "    print(\"Light mist\")\n",
    "elif(x<15):\n",
    "    print(\"mist\")\n",
    "elif(x<20):\n",
    "    print(\"Very light\")\n",
    "elif(x<25):\n",
    "    print(\"Light\")\n",
    "elif(x<30):\n",
    "    print(\"Light to moderate\")\n",
    "elif(x<35):\n",
    "    print(\"Moderate rain\")\n",
    "elif(x<40):\n",
    "    print(\"Moderate rain\")\n",
    "elif(x<45):\n",
    "    print(\"Moderate to heavy\")\n",
    "elif(x<50):\n",
    "    print(\"Heavy\")\n",
    "elif(x<55):\n",
    "    print(\"Very heavy/small hail\")\n",
    "elif(x<60):\n",
    "    print(\"Extreme/moderate hail\")\n",
    "elif(x<65):\n",
    "    print(\"Extreme/large hail\")\n",
    "else:\n",
    "    print(\"Undefined\")\n",
    "    "
   ]
  },
  {
   "cell_type": "raw",
   "metadata": {
    "scrolled": true
   },
   "source": [
    "The fundamental measurable property of precipitation is the radar reflectivity Ƞ which also depends on the size and concentration of the hydrometeors and their themodynamic phase. For a given form of precipitation from that which is hardly noticeable to extreme large hail, reflectivity factor can be calculated as;\n",
    "\n",
    "                                                    z_e=(ηλ^4)/(0.93π^5 ) ,\n",
    "                                                    \n",
    "Where Ƞ is the reflectivity of the target , λ is the wavelength and  0.93 is the dielectric factor of water.\n",
    "The logarithmic reflectivity factor ZdBZ relate with the rain rate by the equation;\n",
    "\n",
    "                                                  R(mm/h) = ├ ( (10^((x)/10dBz))/200┤)^(5/8),\n",
    "                                                  \n",
    "R(mm/h) is the rain rate and x is the reflectivity factor of various forms of precipitation from the hardly noticeable form to extreme hail. So, the reflectivity is the most fundamental parameter that can be used to determine whether what is being observed in the radar receiver is rain or not and which probable form.  \n",
    "So, from the plot above, reflectivity factor tends to increase with increase in the rain rate, meaning it will be higher for extreme large hail than the light rain for example. \n",
    "\n",
    "\n",
    "\n",
    "\n",
    "\n"
   ]
  },
  {
   "cell_type": "code",
   "execution_count": null,
   "metadata": {
    "scrolled": true
   },
   "outputs": [],
   "source": []
  }
 ],
 "metadata": {
  "kernelspec": {
   "display_name": "Python 3",
   "language": "python",
   "name": "python3"
  },
  "language_info": {
   "codemirror_mode": {
    "name": "ipython",
    "version": 3
   },
   "file_extension": ".py",
   "mimetype": "text/x-python",
   "name": "python",
   "nbconvert_exporter": "python",
   "pygments_lexer": "ipython3",
   "version": "3.6.7"
  }
 },
 "nbformat": 4,
 "nbformat_minor": 1
}
